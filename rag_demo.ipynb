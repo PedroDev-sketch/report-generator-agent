{
 "cells": [
  {
   "cell_type": "code",
   "execution_count": null,
   "id": "769f3972-2dac-43fd-b95a-b58d0e8d9053",
   "metadata": {},
   "outputs": [
    {
     "name": "stderr",
     "output_type": "stream",
     "text": [
      "2025-10-29 01:34:53,513 - INFO - Load pretrained SentenceTransformer: sentence-transformers/all-MiniLM-L6-v2\n",
      "2025-10-29 01:37:21,525 - INFO - HTTP Request: POST http://localhost:11434/api/show \"HTTP/1.1 200 OK\"\n"
     ]
    },
    {
     "name": "stdout",
     "output_type": "stream",
     "text": [
      "Índice criado! Agora você pode fazer perguntas sobre as ocorrências.\n",
      "Exemplo: 'Quais ocorrências tiveram nível de urgência alto?'\n",
      "------------------------------------------------------------\n"
     ]
    },
    {
     "name": "stdin",
     "output_type": "stream",
     "text": [
      "\n",
      "Digite sua pergunta (ou 'sair' para encerrar):  Quais são os 3 estados com maior número de casos de briga doméstica?\n"
     ]
    },
    {
     "name": "stderr",
     "output_type": "stream",
     "text": [
      "2025-10-29 01:51:31,847 - INFO - HTTP Request: POST http://localhost:11434/api/chat \"HTTP/1.1 200 OK\"\n"
     ]
    },
    {
     "name": "stdout",
     "output_type": "stream",
     "text": [
      "\n",
      " Resposta:\n",
      "\n",
      "Para responder a esta pergunta sem utilizar informações anteriores e exclusivamente baseado no context fornecido, seria impossível determinar quantos caso cada estado tem. Para ter uma ideia mais precisa dos estados com maior número de incidentes relacionados à briga domestica dentro do dataset apresentado, é necessário acessar todos os dados referentes ao assunto em questão por estados ou utilizar outras ferramentas que possam auxiliá-lo na realização dessa análise.\n",
      "\n",
      "\n"
     ]
    }
   ],
   "source": [
    "import os\n",
    "import pandas as pd\n",
    "from llama_index.core import VectorStoreIndex, SimpleDirectoryReader, Document\n",
    "from llama_index.embeddings.huggingface import HuggingFaceEmbedding\n",
    "from llama_index.llms.ollama import Ollama\n",
    "from llama_index.core import Settings\n",
    "\n",
    "llm = Ollama(model=\"phi3:mini\", request_timeout=600, additional_kwargs={\"num_ctx\":4096})\n",
    "embed_model = HuggingFaceEmbedding(model_name=\"sentence-transformers/all-MiniLM-L6-v2\")\n",
    "\n",
    "Settings.llm = llm\n",
    "Settings.embed_model = embed_model\n",
    "\n",
    "caminho_csv = \"dataset_ocorrencias.csv\"\n",
    "df = pd.read_csv(caminho_csv)\n",
    "\n",
    "textos = []\n",
    "for _, row in df.iterrows():\n",
    "    texto = (\n",
    "        f\"Ocorreu um caso de {row['tipo_situacao']} em {row['localizacao']}. \"\n",
    "        f\"O nível de urgência foi {row['nivel_urgencia']}. \"\n",
    "        f\"As pessoas envolvidas foram: {row['pessoas_envolvidas']}.\"\n",
    "    )\n",
    "    textos.append(texto)\n",
    "\n",
    "os.makedirs(\"dataset_texts\", exist_ok=True)\n",
    "for i, texto in enumerate(textos):\n",
    "    with open(f\"dataset_texts/ocorrencia_{i}.txt\", \"w\", encoding=\"utf-8\") as f:\n",
    "        f.write(texto)\n",
    "\n",
    "documentos = SimpleDirectoryReader(\"dataset_texts\").load_data()\n",
    "index = VectorStoreIndex.from_documents(documentos)\n",
    "query_engine = index.as_query_engine(stream=True)\n",
    "\n",
    "print(\"Índice criado! Agora você pode fazer perguntas sobre as ocorrências.\")\n",
    "print(\"Exemplo: 'Quais ocorrências tiveram nível de urgência alto?'\")\n",
    "print(\"-\" * 60)\n",
    "\n",
    "while True:\n",
    "    pergunta = input(\"\\nDigite sua pergunta (ou 'sair' para encerrar): \")\n",
    "    if pergunta.lower() == \"sair\":\n",
    "        break\n",
    "\n",
    "    resposta = query_engine.query(pergunta)\n",
    "    print(\"\\n Resposta:\\n\")\n",
    "    print(str(resposta))\n",
    "    print(\"\\n\")\n",
    "\n"
   ]
  }
 ],
 "metadata": {
  "kernelspec": {
   "display_name": "Python 3 (ipykernel)",
   "language": "python",
   "name": "python3"
  },
  "language_info": {
   "codemirror_mode": {
    "name": "ipython",
    "version": 3
   },
   "file_extension": ".py",
   "mimetype": "text/x-python",
   "name": "python",
   "nbconvert_exporter": "python",
   "pygments_lexer": "ipython3",
   "version": "3.13.5"
  }
 },
 "nbformat": 4,
 "nbformat_minor": 5
}
